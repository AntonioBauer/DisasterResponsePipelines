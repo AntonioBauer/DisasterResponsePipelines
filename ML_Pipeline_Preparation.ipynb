{
 "cells": [
  {
   "cell_type": "markdown",
   "metadata": {},
   "source": [
    "# ML Pipeline Preparation\n",
    "Follow the instructions below to help you create your ML pipeline.\n",
    "### 1. Import libraries and load data from database.\n",
    "- Import Python libraries\n",
    "- Load dataset from database with [`read_sql_table`](https://pandas.pydata.org/pandas-docs/stable/generated/pandas.read_sql_table.html)\n",
    "- Define feature and target variables X and Y"
   ]
  },
  {
   "cell_type": "code",
   "execution_count": 1,
   "metadata": {},
   "outputs": [
    {
     "name": "stdout",
     "output_type": "stream",
     "text": [
      "[nltk_data] Downloading package punkt to /root/nltk_data...\n",
      "[nltk_data]   Package punkt is already up-to-date!\n",
      "[nltk_data] Downloading package wordnet to /root/nltk_data...\n",
      "[nltk_data]   Package wordnet is already up-to-date!\n",
      "[nltk_data] Downloading package stopwords to /root/nltk_data...\n",
      "[nltk_data]   Package stopwords is already up-to-date!\n"
     ]
    }
   ],
   "source": [
    "# import libraries\n",
    "import sys\n",
    "import pandas as pd\n",
    "import numpy as np\n",
    "from sqlalchemy import create_engine\n",
    "\n",
    "import nltk\n",
    "nltk.download(['punkt', 'wordnet', 'stopwords'])\n",
    "from nltk.tokenize import word_tokenize\n",
    "from nltk.stem import WordNetLemmatizer\n",
    "from nltk.corpus import stopwords\n",
    "from nltk.stem.porter import PorterStemmer\n",
    "\n",
    "from nltk.tokenize import word_tokenize\n",
    "from nltk.stem import WordNetLemmatizer\n",
    "from sklearn.pipeline import Pipeline\n",
    "from sklearn.metrics import confusion_matrix\n",
    "from sklearn.model_selection import train_test_split\n",
    "from sklearn.multioutput import MultiOutputClassifier\n",
    "from sklearn.ensemble import RandomForestClassifier\n",
    "from sklearn.neighbors import KNeighborsClassifier\n",
    "from sklearn.model_selection import GridSearchCV\n",
    "from sklearn.feature_extraction.text import CountVectorizer, TfidfTransformer\n",
    "from sklearn.metrics import classification_report\n",
    "from sklearn.metrics import accuracy_score, precision_score, recall_score, f1_score\n",
    "\n",
    "import re\n",
    "import pickle"
   ]
  },
  {
   "cell_type": "code",
   "execution_count": 2,
   "metadata": {},
   "outputs": [],
   "source": [
    "# load data from database into DataFrame df\n",
    "engine = create_engine('sqlite:///DisasterResponse.db')\n",
    "df = pd.read_sql('DisasterResponse', con=engine)\n",
    "# split Dataframe df into X and y\n",
    "X = df['message']\n",
    "y = df.iloc[:, 4:]"
   ]
  },
  {
   "cell_type": "markdown",
   "metadata": {},
   "source": [
    "### 2. Write a tokenization function to process your text data"
   ]
  },
  {
   "cell_type": "code",
   "execution_count": 3,
   "metadata": {},
   "outputs": [],
   "source": [
    "def tokenize(text):\n",
    "\n",
    "    # tokenize text and instantiate lemmatizer\n",
    "    tokens = word_tokenize(text)\n",
    "    lemmatizer = WordNetLemmatizer()\n",
    "    \n",
    "    # remove punctuation\n",
    "    text = re.sub(r'[^a-zA-Z0-9]', ' ', text)\n",
    "    \n",
    "    # remove stopwords\n",
    "    tokens = [token for token in tokens if token not in stopwords.words('english')]\n",
    "\n",
    "    # create clean tokens\n",
    "    clean_tokens = []\n",
    "    for tok in tokens:\n",
    "        clean_tok = lemmatizer.lemmatize(tok).lower().strip()\n",
    "        clean_tokens.append(clean_tok)\n",
    "\n",
    "    return clean_tokens"
   ]
  },
  {
   "cell_type": "markdown",
   "metadata": {},
   "source": [
    "### 3. Build a machine learning pipeline\n",
    "This machine pipeline should take in the `message` column as input and output classification results on the other 36 categories in the dataset. You may find the [MultiOutputClassifier](http://scikit-learn.org/stable/modules/generated/sklearn.multioutput.MultiOutputClassifier.html) helpful for predicting multiple target variables."
   ]
  },
  {
   "cell_type": "code",
   "execution_count": 4,
   "metadata": {},
   "outputs": [],
   "source": [
    "# build pipeline for the text transformation and for estimator\n",
    "pipeline = Pipeline([\n",
    "    ('vect', CountVectorizer(tokenizer=tokenize)),\n",
    "    ('tfidf', TfidfTransformer()),\n",
    "    ('clf', MultiOutputClassifier(RandomForestClassifier()))\n",
    "])"
   ]
  },
  {
   "cell_type": "markdown",
   "metadata": {},
   "source": [
    "### 4. Train pipeline\n",
    "- Split data into train and test sets\n",
    "- Train pipeline"
   ]
  },
  {
   "cell_type": "code",
   "execution_count": 5,
   "metadata": {},
   "outputs": [
    {
     "name": "stderr",
     "output_type": "stream",
     "text": [
      "/opt/conda/lib/python3.6/site-packages/sklearn/model_selection/_split.py:2026: FutureWarning: From version 0.21, test_size will always complement train_size unless both are specified.\n",
      "  FutureWarning)\n"
     ]
    }
   ],
   "source": [
    "# split data into training and test data, in this case into 70% training data and 30% test data\n",
    "X_train, X_test, y_train, y_test = train_test_split(X, y, train_size=0.3)"
   ]
  },
  {
   "cell_type": "code",
   "execution_count": 6,
   "metadata": {},
   "outputs": [
    {
     "name": "stdout",
     "output_type": "stream",
     "text": [
      "CPU times: user 54 s, sys: 3.02 s, total: 57 s\n",
      "Wall time: 57.4 s\n"
     ]
    },
    {
     "data": {
      "text/plain": [
       "Pipeline(memory=None,\n",
       "     steps=[('vect', CountVectorizer(analyzer='word', binary=False, decode_error='strict',\n",
       "        dtype=<class 'numpy.int64'>, encoding='utf-8', input='content',\n",
       "        lowercase=True, max_df=1.0, max_features=None, min_df=1,\n",
       "        ngram_range=(1, 1), preprocessor=None, stop_words=None,\n",
       "        strip...oob_score=False, random_state=None, verbose=0,\n",
       "            warm_start=False),\n",
       "           n_jobs=1))])"
      ]
     },
     "execution_count": 6,
     "metadata": {},
     "output_type": "execute_result"
    }
   ],
   "source": [
    "%%time\n",
    "# train data\n",
    "pipeline.fit(X_train, y_train)"
   ]
  },
  {
   "cell_type": "markdown",
   "metadata": {},
   "source": [
    "### 5. Test your model\n",
    "Report the f1 score, precision and recall for each output category of the dataset. You can do this by iterating through the columns and calling sklearn's `classification_report` on each."
   ]
  },
  {
   "cell_type": "code",
   "execution_count": 7,
   "metadata": {},
   "outputs": [],
   "source": [
    "# create the classification_report\n",
    "# I used this github repo as a reference https://github.com/beatboxerish/DSND/blob/master/Disaster_Reponse_Pipelines/disaster_response_pipeline_project/models/ML%20Pipeline%20Preparation.ipynb\n",
    "def classification_rep_col(y_test, y_pred):\n",
    "    for i, col in enumerate(y_test.columns): \n",
    "        print(col,': ',classification_report(y_test.iloc[:,i], y_pred[:,i]))"
   ]
  },
  {
   "cell_type": "code",
   "execution_count": 8,
   "metadata": {},
   "outputs": [],
   "source": [
    "# predict responses for basic model\n",
    "Y_pred = pipeline.predict(X_test)"
   ]
  },
  {
   "cell_type": "code",
   "execution_count": 9,
   "metadata": {},
   "outputs": [
    {
     "name": "stdout",
     "output_type": "stream",
     "text": [
      "related :               precision    recall  f1-score   support\n",
      "\n",
      "          0       0.62      0.36      0.46      4300\n",
      "          1       0.82      0.93      0.87     13915\n",
      "          2       0.21      0.18      0.20       137\n",
      "\n",
      "avg / total       0.77      0.79      0.77     18352\n",
      "\n",
      "request :               precision    recall  f1-score   support\n",
      "\n",
      "          0       0.89      0.98      0.93     15248\n",
      "          1       0.79      0.38      0.52      3104\n",
      "\n",
      "avg / total       0.87      0.88      0.86     18352\n",
      "\n",
      "offer :               precision    recall  f1-score   support\n",
      "\n",
      "          0       1.00      1.00      1.00     18269\n",
      "          1       0.00      0.00      0.00        83\n",
      "\n",
      "avg / total       0.99      1.00      0.99     18352\n",
      "\n",
      "aid_related :               precision    recall  f1-score   support\n",
      "\n",
      "          0       0.73      0.86      0.79     10743\n",
      "          1       0.73      0.55      0.63      7609\n",
      "\n",
      "avg / total       0.73      0.73      0.72     18352\n",
      "\n",
      "medical_help :               precision    recall  f1-score   support\n",
      "\n",
      "          0       0.92      1.00      0.96     16876\n",
      "          1       0.61      0.07      0.12      1476\n",
      "\n",
      "avg / total       0.90      0.92      0.89     18352\n",
      "\n",
      "medical_products :               precision    recall  f1-score   support\n",
      "\n",
      "          0       0.95      1.00      0.98     17429\n",
      "          1       0.78      0.06      0.11       923\n",
      "\n",
      "avg / total       0.94      0.95      0.93     18352\n",
      "\n",
      "search_and_rescue :               precision    recall  f1-score   support\n",
      "\n",
      "          0       0.97      1.00      0.99     17822\n",
      "          1       0.57      0.03      0.06       530\n",
      "\n",
      "avg / total       0.96      0.97      0.96     18352\n",
      "\n",
      "security :               precision    recall  f1-score   support\n",
      "\n",
      "          0       0.98      1.00      0.99     18036\n",
      "          1       0.00      0.00      0.00       316\n",
      "\n",
      "avg / total       0.97      0.98      0.97     18352\n",
      "\n",
      "military :               precision    recall  f1-score   support\n",
      "\n",
      "          0       0.97      1.00      0.98     17753\n",
      "          1       0.65      0.10      0.17       599\n",
      "\n",
      "avg / total       0.96      0.97      0.96     18352\n",
      "\n",
      "child_alone :               precision    recall  f1-score   support\n",
      "\n",
      "          0       1.00      1.00      1.00     18352\n",
      "\n",
      "avg / total       1.00      1.00      1.00     18352\n",
      "\n",
      "water :               precision    recall  f1-score   support\n",
      "\n",
      "          0       0.95      1.00      0.97     17175\n",
      "          1       0.90      0.18      0.31      1177\n",
      "\n",
      "avg / total       0.94      0.95      0.93     18352\n",
      "\n",
      "food :               precision    recall  f1-score   support\n",
      "\n",
      "          0       0.94      0.99      0.96     16319\n",
      "          1       0.84      0.47      0.61      2033\n",
      "\n",
      "avg / total       0.93      0.93      0.92     18352\n",
      "\n",
      "shelter :               precision    recall  f1-score   support\n",
      "\n",
      "          0       0.93      1.00      0.96     16743\n",
      "          1       0.84      0.20      0.32      1609\n",
      "\n",
      "avg / total       0.92      0.93      0.90     18352\n",
      "\n",
      "clothing :               precision    recall  f1-score   support\n",
      "\n",
      "          0       0.99      1.00      0.99     18078\n",
      "          1       0.58      0.03      0.05       274\n",
      "\n",
      "avg / total       0.98      0.99      0.98     18352\n",
      "\n",
      "money :               precision    recall  f1-score   support\n",
      "\n",
      "          0       0.98      1.00      0.99     17917\n",
      "          1       0.56      0.02      0.04       435\n",
      "\n",
      "avg / total       0.97      0.98      0.97     18352\n",
      "\n",
      "missing_people :               precision    recall  f1-score   support\n",
      "\n",
      "          0       0.99      1.00      0.99     18131\n",
      "          1       0.00      0.00      0.00       221\n",
      "\n",
      "avg / total       0.98      0.99      0.98     18352\n",
      "\n",
      "refugees :               precision    recall  f1-score   support\n",
      "\n",
      "          0       0.97      1.00      0.98     17740\n",
      "          1       0.53      0.04      0.08       612\n",
      "\n",
      "avg / total       0.95      0.97      0.95     18352\n",
      "\n",
      "death :               precision    recall  f1-score   support\n",
      "\n",
      "          0       0.97      1.00      0.98     17521\n",
      "          1       0.75      0.28      0.40       831\n",
      "\n",
      "avg / total       0.96      0.96      0.95     18352\n",
      "\n",
      "other_aid :               precision    recall  f1-score   support\n",
      "\n",
      "          0       0.87      1.00      0.93     15931\n",
      "          1       0.50      0.03      0.05      2421\n",
      "\n",
      "avg / total       0.82      0.87      0.81     18352\n",
      "\n",
      "infrastructure_related :               precision    recall  f1-score   support\n",
      "\n",
      "          0       0.93      1.00      0.97     17147\n",
      "          1       0.11      0.00      0.00      1205\n",
      "\n",
      "avg / total       0.88      0.93      0.90     18352\n",
      "\n",
      "transport :               precision    recall  f1-score   support\n",
      "\n",
      "          0       0.96      1.00      0.98     17530\n",
      "          1       0.80      0.09      0.16       822\n",
      "\n",
      "avg / total       0.95      0.96      0.94     18352\n",
      "\n",
      "buildings :               precision    recall  f1-score   support\n",
      "\n",
      "          0       0.95      1.00      0.97     17422\n",
      "          1       0.69      0.07      0.13       930\n",
      "\n",
      "avg / total       0.94      0.95      0.93     18352\n",
      "\n",
      "electricity :               precision    recall  f1-score   support\n",
      "\n",
      "          0       0.98      1.00      0.99     18002\n",
      "          1       0.65      0.04      0.08       350\n",
      "\n",
      "avg / total       0.98      0.98      0.97     18352\n",
      "\n",
      "tools :               precision    recall  f1-score   support\n",
      "\n",
      "          0       0.99      1.00      1.00     18251\n",
      "          1       0.00      0.00      0.00       101\n",
      "\n",
      "avg / total       0.99      0.99      0.99     18352\n",
      "\n",
      "hospitals :               precision    recall  f1-score   support\n",
      "\n",
      "          0       0.99      1.00      0.99     18152\n",
      "          1       0.00      0.00      0.00       200\n",
      "\n",
      "avg / total       0.98      0.99      0.98     18352\n",
      "\n",
      "shops :               precision    recall  f1-score   support\n",
      "\n",
      "          0       1.00      1.00      1.00     18264\n",
      "          1       0.00      0.00      0.00        88\n",
      "\n",
      "avg / total       0.99      1.00      0.99     18352\n",
      "\n",
      "aid_centers :               precision    recall  f1-score   support\n",
      "\n",
      "          0       0.99      1.00      0.99     18129\n",
      "          1       0.00      0.00      0.00       223\n",
      "\n",
      "avg / total       0.98      0.99      0.98     18352\n",
      "\n",
      "other_infrastructure :               precision    recall  f1-score   support\n",
      "\n",
      "          0       0.96      1.00      0.98     17544\n",
      "          1       0.08      0.00      0.00       808\n",
      "\n",
      "avg / total       0.92      0.96      0.93     18352\n",
      "\n",
      "weather_related :               precision    recall  f1-score   support\n",
      "\n",
      "          0       0.86      0.95      0.90     13255\n",
      "          1       0.82      0.61      0.70      5097\n",
      "\n",
      "avg / total       0.85      0.85      0.85     18352\n",
      "\n",
      "floods :               precision    recall  f1-score   support\n",
      "\n",
      "          0       0.94      1.00      0.97     16844\n",
      "          1       0.88      0.30      0.44      1508\n",
      "\n",
      "avg / total       0.94      0.94      0.92     18352\n",
      "\n",
      "storm :               precision    recall  f1-score   support\n",
      "\n",
      "          0       0.94      0.99      0.96     16666\n",
      "          1       0.74      0.35      0.47      1686\n",
      "\n",
      "avg / total       0.92      0.93      0.92     18352\n",
      "\n",
      "fire :               precision    recall  f1-score   support\n",
      "\n",
      "          0       0.99      1.00      0.99     18158\n",
      "          1       0.00      0.00      0.00       194\n",
      "\n",
      "avg / total       0.98      0.99      0.98     18352\n",
      "\n",
      "earthquake :               precision    recall  f1-score   support\n",
      "\n",
      "          0       0.95      0.99      0.97     16612\n",
      "          1       0.88      0.51      0.65      1740\n",
      "\n",
      "avg / total       0.94      0.95      0.94     18352\n",
      "\n",
      "cold :               precision    recall  f1-score   support\n",
      "\n",
      "          0       0.98      1.00      0.99     17977\n",
      "          1       0.76      0.07      0.12       375\n",
      "\n",
      "avg / total       0.98      0.98      0.97     18352\n",
      "\n",
      "other_weather :               precision    recall  f1-score   support\n",
      "\n",
      "          0       0.95      1.00      0.97     17391\n",
      "          1       0.56      0.04      0.07       961\n",
      "\n",
      "avg / total       0.93      0.95      0.93     18352\n",
      "\n",
      "direct_report :               precision    recall  f1-score   support\n",
      "\n",
      "          0       0.85      0.97      0.91     14816\n",
      "          1       0.72      0.29      0.41      3536\n",
      "\n",
      "avg / total       0.83      0.84      0.81     18352\n",
      "\n"
     ]
    },
    {
     "name": "stderr",
     "output_type": "stream",
     "text": [
      "/opt/conda/lib/python3.6/site-packages/sklearn/metrics/classification.py:1135: UndefinedMetricWarning: Precision and F-score are ill-defined and being set to 0.0 in labels with no predicted samples.\n",
      "  'precision', 'predicted', average, warn_for)\n"
     ]
    }
   ],
   "source": [
    "# call classification_rep_col function\n",
    "classification_rep_col(y_test, Y_pred)"
   ]
  },
  {
   "cell_type": "markdown",
   "metadata": {},
   "source": [
    "### 6. Improve your model\n",
    "Use grid search to find better parameters. "
   ]
  },
  {
   "cell_type": "code",
   "execution_count": 10,
   "metadata": {},
   "outputs": [],
   "source": [
    "# build pipeline for the text transformation and for estimator\n",
    "pipeline = Pipeline([\n",
    "    ('vect', CountVectorizer(tokenizer=tokenize)),\n",
    "    ('tfidf', TfidfTransformer()),\n",
    "    ('clf', MultiOutputClassifier(RandomForestClassifier()))\n",
    "])"
   ]
  },
  {
   "cell_type": "code",
   "execution_count": 11,
   "metadata": {},
   "outputs": [],
   "source": [
    "# number of trees in random forest\n",
    "n_estimators = [int(x) for x in np.linspace(start = 10, stop = 80, num = 10)]\n",
    "\n",
    "# number of feartures to consider every split\n",
    "max_features = ['auto', 'sqrt']\n",
    "\n",
    "# maximum number of levels in a tree\n",
    "max_depth = [2, 4]\n",
    "\n",
    "# minimun number of samples required to split a node\n",
    "min_samples_split = [2, 5]\n",
    "\n",
    "# minimun number of samples required at each leaf node\n",
    "min_samples_leaf = [1, 2]\n",
    "\n",
    "# mehtod of selecting samples for training each tree\n",
    "bootstrap = [True, False]"
   ]
  },
  {
   "cell_type": "code",
   "execution_count": 12,
   "metadata": {},
   "outputs": [],
   "source": [
    "parameters = {\n",
    "    'clf__estimator__n_estimators': n_estimators,\n",
    "    'clf__estimator__max_depth': max_depth,\n",
    "    'clf__estimator__max_depth': max_depth,\n",
    "    'clf__estimator__min_samples_leaf': min_samples_leaf,\n",
    "    'clf__estimator__min_samples_split': min_samples_split,\n",
    "    'clf__estimator__bootstrap': bootstrap\n",
    "}\n",
    "\n",
    "cv_forest = GridSearchCV(pipeline, param_grid = parameters, cv = 3, verbose = 1, n_jobs = 4)"
   ]
  },
  {
   "cell_type": "code",
   "execution_count": null,
   "metadata": {},
   "outputs": [
    {
     "name": "stdout",
     "output_type": "stream",
     "text": [
      "Fitting 3 folds for each of 160 candidates, totalling 480 fits\n"
     ]
    }
   ],
   "source": [
    "%%time\n",
    "# train improved model\n",
    "cv_forest.fit(X_train, y_train)"
   ]
  },
  {
   "cell_type": "code",
   "execution_count": null,
   "metadata": {},
   "outputs": [],
   "source": [
    "# use the best performing parameters\n",
    "cv_forest.best_params_"
   ]
  },
  {
   "cell_type": "markdown",
   "metadata": {},
   "source": [
    "### 7. Test your model\n",
    "Show the accuracy, precision, and recall of the tuned model.  \n",
    "\n",
    "Since this project focuses on code quality, process, and  pipelines, there is no minimum performance metric needed to pass. However, make sure to fine tune your models for accuracy, precision and recall to make your project stand out - especially for your portfolio!"
   ]
  },
  {
   "cell_type": "code",
   "execution_count": null,
   "metadata": {},
   "outputs": [],
   "source": [
    "# predict responses for improved model\n",
    "Y_pred_cv = cv.predict(X_test)"
   ]
  },
  {
   "cell_type": "code",
   "execution_count": null,
   "metadata": {},
   "outputs": [],
   "source": [
    "# call classification_rep_col function\n",
    "classification_rep_col(y_test, Y_pred_cv)"
   ]
  },
  {
   "cell_type": "markdown",
   "metadata": {},
   "source": [
    "### 8. Try improving your model further. Here are a few ideas:\n",
    "* try other machine learning algorithms\n",
    "* add other features besides the TF-IDF"
   ]
  },
  {
   "cell_type": "markdown",
   "metadata": {},
   "source": [
    "I'm going to use the KNeighborsClassifier like in my previous submission and see how well it performs in this case."
   ]
  },
  {
   "cell_type": "code",
   "execution_count": null,
   "metadata": {},
   "outputs": [],
   "source": [
    "# using KNeighborsClassifier\n",
    "pipeline_knn = Pipeline([\n",
    "    ('vect', CountVectorizer(tokenizer = tokenize)),\n",
    "    ('tfidf', TfidfTransformer()),\n",
    "    ('clf', MultiOutputClassifier(KNeighborsClassifier()))\n",
    "])"
   ]
  },
  {
   "cell_type": "code",
   "execution_count": null,
   "metadata": {},
   "outputs": [],
   "source": [
    "# train KNeighborsClassifier model\n",
    "pipeline_knn.fit(X_train, y_train)"
   ]
  },
  {
   "cell_type": "code",
   "execution_count": null,
   "metadata": {},
   "outputs": [],
   "source": [
    "# predict responses for KNeighborsClassifier model\n",
    "Y_pred_knn = pipeline_knn.predict(X_test)"
   ]
  },
  {
   "cell_type": "code",
   "execution_count": null,
   "metadata": {},
   "outputs": [],
   "source": [
    "# call classification_rep_col function\n",
    "classification_rep_col(y_test, Y_pred_knn)"
   ]
  },
  {
   "cell_type": "markdown",
   "metadata": {},
   "source": [
    "### 9. Export your model as a pickle file"
   ]
  },
  {
   "cell_type": "code",
   "execution_count": null,
   "metadata": {},
   "outputs": [],
   "source": [
    "\n",
    "saved_model = pickle.dumps(cv_forest.best_estimator_)"
   ]
  },
  {
   "cell_type": "markdown",
   "metadata": {},
   "source": [
    "### 10. Use this notebook to complete `train.py`\n",
    "Use the template file attached in the Resources folder to write a script that runs the steps above to create a database and export a model based on a new dataset specified by the user."
   ]
  }
 ],
 "metadata": {
  "kernelspec": {
   "display_name": "Python 3",
   "language": "python",
   "name": "python3"
  },
  "language_info": {
   "codemirror_mode": {
    "name": "ipython",
    "version": 3
   },
   "file_extension": ".py",
   "mimetype": "text/x-python",
   "name": "python",
   "nbconvert_exporter": "python",
   "pygments_lexer": "ipython3",
   "version": "3.6.3"
  }
 },
 "nbformat": 4,
 "nbformat_minor": 2
}
