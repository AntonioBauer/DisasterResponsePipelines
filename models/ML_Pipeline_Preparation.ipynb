{
 "cells": [
  {
   "cell_type": "markdown",
   "metadata": {},
   "source": [
    "# ML Pipeline Preparation\n",
    "Follow the instructions below to help you create your ML pipeline.\n",
    "### 1. Import libraries and load data from database.\n",
    "- Import Python libraries\n",
    "- Load dataset from database with [`read_sql_table`](https://pandas.pydata.org/pandas-docs/stable/generated/pandas.read_sql_table.html)\n",
    "- Define feature and target variables X and Y"
   ]
  },
  {
   "cell_type": "code",
   "execution_count": 1,
   "metadata": {},
   "outputs": [
    {
     "name": "stdout",
     "output_type": "stream",
     "text": [
      "[nltk_data] Downloading package punkt to /root/nltk_data...\n",
      "[nltk_data]   Package punkt is already up-to-date!\n",
      "[nltk_data] Downloading package wordnet to /root/nltk_data...\n",
      "[nltk_data]   Package wordnet is already up-to-date!\n",
      "[nltk_data] Downloading package stopwords to /root/nltk_data...\n",
      "[nltk_data]   Package stopwords is already up-to-date!\n"
     ]
    }
   ],
   "source": [
    "# import libraries\n",
    "import sys\n",
    "import pandas as pd\n",
    "import numpy as np\n",
    "from sqlalchemy import create_engine\n",
    "\n",
    "import nltk\n",
    "nltk.download(['punkt', 'wordnet', 'stopwords'])\n",
    "from nltk.tokenize import word_tokenize\n",
    "from nltk.stem import WordNetLemmatizer\n",
    "from nltk.corpus import stopwords\n",
    "from nltk.stem.porter import PorterStemmer\n",
    "from nltk.tokenize import RegexpTokenizer\n",
    "\n",
    "from nltk.tokenize import word_tokenize\n",
    "from nltk.stem import WordNetLemmatizer\n",
    "from sklearn.pipeline import Pipeline\n",
    "from sklearn.metrics import confusion_matrix\n",
    "from sklearn.model_selection import train_test_split\n",
    "from sklearn.multioutput import MultiOutputClassifier\n",
    "from sklearn.ensemble import RandomForestClassifier\n",
    "from sklearn.neighbors import KNeighborsClassifier\n",
    "from sklearn.model_selection import GridSearchCV\n",
    "from sklearn.feature_extraction.text import CountVectorizer, TfidfTransformer\n",
    "from sklearn.metrics import classification_report\n",
    "from sklearn.metrics import accuracy_score, precision_score, recall_score, f1_score\n",
    "\n",
    "import re\n",
    "import pickle"
   ]
  },
  {
   "cell_type": "code",
   "execution_count": 2,
   "metadata": {},
   "outputs": [],
   "source": [
    "# load data from database into DataFrame df\n",
    "engine = create_engine('sqlite:///DisasterResponse.db')\n",
    "df = pd.read_sql('DisasterData', con=engine)"
   ]
  },
  {
   "cell_type": "code",
   "execution_count": 3,
   "metadata": {},
   "outputs": [],
   "source": [
    "# split Dataframe df into X and y\n",
    "X = df['message']\n",
    "y = df.iloc[:, 4:]"
   ]
  },
  {
   "cell_type": "markdown",
   "metadata": {},
   "source": [
    "### 2. Write a tokenization function to process your text data"
   ]
  },
  {
   "cell_type": "code",
   "execution_count": 4,
   "metadata": {},
   "outputs": [],
   "source": [
    "def tokenize(text):\n",
    "\n",
    "    # tokenize text and instantiate lemmatizer\n",
    "    tokens = word_tokenize(text)\n",
    "    lemmatizer = WordNetLemmatizer()\n",
    "    \n",
    "    # remove stopwords\n",
    "    tokens = [token for token in tokens if token not in stopwords.words('english')]\n",
    "    \n",
    "    # remove punctuaction\n",
    "    tokens = [token for token in tokens if token.isalpha()]\n",
    "\n",
    "    # create clean tokens\n",
    "    clean_tokens = []\n",
    "    for tok in tokens:\n",
    "        clean_tok = lemmatizer.lemmatize(tok).lower().strip()\n",
    "        clean_tokens.append(clean_tok)\n",
    "\n",
    "    return clean_tokens"
   ]
  },
  {
   "cell_type": "markdown",
   "metadata": {},
   "source": [
    "### 3. Build a machine learning pipeline\n",
    "This machine pipeline should take in the `message` column as input and output classification results on the other 36 categories in the dataset. You may find the [MultiOutputClassifier](http://scikit-learn.org/stable/modules/generated/sklearn.multioutput.MultiOutputClassifier.html) helpful for predicting multiple target variables."
   ]
  },
  {
   "cell_type": "code",
   "execution_count": 5,
   "metadata": {},
   "outputs": [],
   "source": [
    "# build pipeline for the text transformation and for estimator\n",
    "pipeline = Pipeline([\n",
    "    ('vect', CountVectorizer(tokenizer = tokenize)),\n",
    "    ('tfidf', TfidfTransformer()),\n",
    "    ('clf', MultiOutputClassifier(RandomForestClassifier()))\n",
    "])"
   ]
  },
  {
   "cell_type": "markdown",
   "metadata": {},
   "source": [
    "### 4. Train pipeline\n",
    "- Split data into train and test sets\n",
    "- Train pipeline"
   ]
  },
  {
   "cell_type": "code",
   "execution_count": 6,
   "metadata": {},
   "outputs": [],
   "source": [
    "# split data into training and test data\n",
    "X_train, X_test, y_train, y_test = train_test_split(X, y)"
   ]
  },
  {
   "cell_type": "code",
   "execution_count": 7,
   "metadata": {},
   "outputs": [
    {
     "name": "stdout",
     "output_type": "stream",
     "text": [
      "CPU times: user 2min 37s, sys: 7.35 s, total: 2min 45s\n",
      "Wall time: 2min 45s\n"
     ]
    },
    {
     "data": {
      "text/plain": [
       "Pipeline(memory=None,\n",
       "     steps=[('vect', CountVectorizer(analyzer='word', binary=False, decode_error='strict',\n",
       "        dtype=<class 'numpy.int64'>, encoding='utf-8', input='content',\n",
       "        lowercase=True, max_df=1.0, max_features=None, min_df=1,\n",
       "        ngram_range=(1, 1), preprocessor=None, stop_words=None,\n",
       "        strip...oob_score=False, random_state=None, verbose=0,\n",
       "            warm_start=False),\n",
       "           n_jobs=1))])"
      ]
     },
     "execution_count": 7,
     "metadata": {},
     "output_type": "execute_result"
    }
   ],
   "source": [
    "%%time\n",
    "# train data\n",
    "pipeline.fit(X_train, y_train)"
   ]
  },
  {
   "cell_type": "code",
   "execution_count": 8,
   "metadata": {},
   "outputs": [
    {
     "data": {
      "text/plain": [
       "Index(['related', 'request', 'offer', 'aid_related', 'medical_help',\n",
       "       'medical_products', 'search_and_rescue', 'security', 'military',\n",
       "       'child_alone', 'water', 'food', 'shelter', 'clothing', 'money',\n",
       "       'missing_people', 'refugees', 'death', 'other_aid',\n",
       "       'infrastructure_related', 'transport', 'buildings', 'electricity',\n",
       "       'tools', 'hospitals', 'shops', 'aid_centers', 'other_infrastructure',\n",
       "       'weather_related', 'floods', 'storm', 'fire', 'earthquake', 'cold',\n",
       "       'other_weather', 'direct_report'],\n",
       "      dtype='object')"
      ]
     },
     "execution_count": 8,
     "metadata": {},
     "output_type": "execute_result"
    }
   ],
   "source": [
    "y_test.columns"
   ]
  },
  {
   "cell_type": "markdown",
   "metadata": {},
   "source": [
    "### 5. Test your model\n",
    "Report the f1 score, precision and recall for each output category of the dataset. You can do this by iterating through the columns and calling sklearn's `classification_report` on each."
   ]
  },
  {
   "cell_type": "code",
   "execution_count": 9,
   "metadata": {},
   "outputs": [],
   "source": [
    "# predict responses for basic model\n",
    "Y_pred = pipeline.predict(X_test)"
   ]
  },
  {
   "cell_type": "code",
   "execution_count": 10,
   "metadata": {},
   "outputs": [
    {
     "name": "stdout",
     "output_type": "stream",
     "text": [
      "                        precision    recall  f1-score   support\n",
      "\n",
      "               related       0.87      0.91      0.89      5105\n",
      "               request       0.82      0.44      0.57      1140\n",
      "                 offer       0.00      0.00      0.00        33\n",
      "           aid_related       0.75      0.60      0.66      2739\n",
      "          medical_help       0.60      0.07      0.12       546\n",
      "      medical_products       0.88      0.11      0.19       355\n",
      "     search_and_rescue       0.54      0.04      0.08       173\n",
      "              security       0.00      0.00      0.00       123\n",
      "              military       0.69      0.10      0.17       226\n",
      "           child_alone       0.00      0.00      0.00         0\n",
      "                 water       0.86      0.29      0.43       414\n",
      "                  food       0.80      0.60      0.69       727\n",
      "               shelter       0.83      0.30      0.44       592\n",
      "              clothing       0.69      0.12      0.20        95\n",
      "                 money       0.80      0.02      0.05       161\n",
      "        missing_people       0.50      0.01      0.02        86\n",
      "              refugees       0.53      0.04      0.07       204\n",
      "                 death       0.78      0.16      0.27       313\n",
      "             other_aid       0.40      0.05      0.09       858\n",
      "infrastructure_related       0.11      0.00      0.00       445\n",
      "             transport       0.65      0.06      0.12       313\n",
      "             buildings       0.74      0.12      0.20       353\n",
      "           electricity       0.75      0.07      0.12       132\n",
      "                 tools       0.00      0.00      0.00        34\n",
      "             hospitals       0.00      0.00      0.00        63\n",
      "                 shops       0.00      0.00      0.00        26\n",
      "           aid_centers       0.00      0.00      0.00        85\n",
      "  other_infrastructure       0.17      0.00      0.01       307\n",
      "       weather_related       0.86      0.59      0.70      1864\n",
      "                floods       0.89      0.36      0.52       547\n",
      "                 storm       0.79      0.41      0.54       641\n",
      "                  fire       0.33      0.01      0.03        71\n",
      "            earthquake       0.88      0.73      0.79       626\n",
      "                  cold       0.52      0.14      0.22       122\n",
      "         other_weather       0.41      0.03      0.06       346\n",
      "         direct_report       0.75      0.32      0.44      1294\n",
      "\n",
      "           avg / total       0.74      0.49      0.54     21159\n",
      "\n"
     ]
    },
    {
     "name": "stderr",
     "output_type": "stream",
     "text": [
      "/opt/conda/lib/python3.6/site-packages/sklearn/metrics/classification.py:1135: UndefinedMetricWarning: Precision and F-score are ill-defined and being set to 0.0 in labels with no predicted samples.\n",
      "  'precision', 'predicted', average, warn_for)\n",
      "/opt/conda/lib/python3.6/site-packages/sklearn/metrics/classification.py:1137: UndefinedMetricWarning: Recall and F-score are ill-defined and being set to 0.0 in labels with no true samples.\n",
      "  'recall', 'true', average, warn_for)\n"
     ]
    }
   ],
   "source": [
    "# print classification_report\n",
    "print(classification_report(y_test, Y_pred, target_names = y_test.columns, digits = 2))"
   ]
  },
  {
   "cell_type": "markdown",
   "metadata": {},
   "source": [
    "### 6. Improve your model\n",
    "Use grid search to find better parameters. "
   ]
  },
  {
   "cell_type": "code",
   "execution_count": 11,
   "metadata": {},
   "outputs": [],
   "source": [
    "# build pipeline for the text transformation and for estimator\n",
    "cv_pipeline = Pipeline([\n",
    "    ('vect', CountVectorizer(tokenizer=tokenize)),\n",
    "    ('tfidf', TfidfTransformer()),\n",
    "    ('clf', MultiOutputClassifier(RandomForestClassifier()))\n",
    "])"
   ]
  },
  {
   "cell_type": "code",
   "execution_count": 12,
   "metadata": {},
   "outputs": [
    {
     "data": {
      "text/plain": [
       "{'estimator__bootstrap': True,\n",
       " 'estimator__class_weight': None,\n",
       " 'estimator__criterion': 'gini',\n",
       " 'estimator__max_depth': None,\n",
       " 'estimator__max_features': 'auto',\n",
       " 'estimator__max_leaf_nodes': None,\n",
       " 'estimator__min_impurity_decrease': 0.0,\n",
       " 'estimator__min_impurity_split': None,\n",
       " 'estimator__min_samples_leaf': 1,\n",
       " 'estimator__min_samples_split': 2,\n",
       " 'estimator__min_weight_fraction_leaf': 0.0,\n",
       " 'estimator__n_estimators': 10,\n",
       " 'estimator__n_jobs': 1,\n",
       " 'estimator__oob_score': False,\n",
       " 'estimator__random_state': None,\n",
       " 'estimator__verbose': 0,\n",
       " 'estimator__warm_start': False,\n",
       " 'estimator': RandomForestClassifier(bootstrap=True, class_weight=None, criterion='gini',\n",
       "             max_depth=None, max_features='auto', max_leaf_nodes=None,\n",
       "             min_impurity_decrease=0.0, min_impurity_split=None,\n",
       "             min_samples_leaf=1, min_samples_split=2,\n",
       "             min_weight_fraction_leaf=0.0, n_estimators=10, n_jobs=1,\n",
       "             oob_score=False, random_state=None, verbose=0,\n",
       "             warm_start=False),\n",
       " 'n_jobs': 1}"
      ]
     },
     "execution_count": 12,
     "metadata": {},
     "output_type": "execute_result"
    }
   ],
   "source": [
    "MultiOutputClassifier(RandomForestClassifier()).get_params()"
   ]
  },
  {
   "cell_type": "code",
   "execution_count": 13,
   "metadata": {},
   "outputs": [],
   "source": [
    "# reduced hyperparameter tuning and cross validation due to runtime\n",
    "parameters = {\n",
    "    'clf__estimator__n_estimators': [4, 6, 9],\n",
    "    'clf__estimator__min_samples_split': [2, 3, 5],\n",
    "}\n",
    "    \n",
    "\n",
    "cv_forest = GridSearchCV(cv_pipeline, param_grid = parameters, cv = 2, verbose = 2, n_jobs = 4)"
   ]
  },
  {
   "cell_type": "code",
   "execution_count": 14,
   "metadata": {},
   "outputs": [
    {
     "name": "stdout",
     "output_type": "stream",
     "text": [
      "Fitting 2 folds for each of 9 candidates, totalling 18 fits\n",
      "[CV] clf__estimator__min_samples_split=2, clf__estimator__n_estimators=4 \n",
      "[CV] clf__estimator__min_samples_split=2, clf__estimator__n_estimators=4 \n",
      "[CV] clf__estimator__min_samples_split=2, clf__estimator__n_estimators=6 \n",
      "[CV] clf__estimator__min_samples_split=2, clf__estimator__n_estimators=6 \n",
      "[CV]  clf__estimator__min_samples_split=2, clf__estimator__n_estimators=4, total= 7.8min\n",
      "[CV] clf__estimator__min_samples_split=2, clf__estimator__n_estimators=9 \n",
      "[CV]  clf__estimator__min_samples_split=2, clf__estimator__n_estimators=4, total= 7.8min\n",
      "[CV] clf__estimator__min_samples_split=2, clf__estimator__n_estimators=9 \n",
      "[CV]  clf__estimator__min_samples_split=2, clf__estimator__n_estimators=6, total= 8.2min\n",
      "[CV] clf__estimator__min_samples_split=3, clf__estimator__n_estimators=4 \n",
      "[CV]  clf__estimator__min_samples_split=2, clf__estimator__n_estimators=6, total= 8.2min\n",
      "[CV] clf__estimator__min_samples_split=3, clf__estimator__n_estimators=4 \n",
      "[CV]  clf__estimator__min_samples_split=3, clf__estimator__n_estimators=4, total= 7.8min\n",
      "[CV] clf__estimator__min_samples_split=3, clf__estimator__n_estimators=6 \n",
      "[CV]  clf__estimator__min_samples_split=3, clf__estimator__n_estimators=4, total= 7.8min\n",
      "[CV] clf__estimator__min_samples_split=3, clf__estimator__n_estimators=6 \n",
      "[CV]  clf__estimator__min_samples_split=2, clf__estimator__n_estimators=9, total= 8.8min\n",
      "[CV] clf__estimator__min_samples_split=3, clf__estimator__n_estimators=9 \n",
      "[CV]  clf__estimator__min_samples_split=2, clf__estimator__n_estimators=9, total= 8.9min\n",
      "[CV] clf__estimator__min_samples_split=3, clf__estimator__n_estimators=9 \n",
      "[CV]  clf__estimator__min_samples_split=3, clf__estimator__n_estimators=6, total= 8.2min\n",
      "[CV] clf__estimator__min_samples_split=5, clf__estimator__n_estimators=4 \n",
      "[CV]  clf__estimator__min_samples_split=3, clf__estimator__n_estimators=6, total= 8.2min\n",
      "[CV] clf__estimator__min_samples_split=5, clf__estimator__n_estimators=4 \n",
      "[CV]  clf__estimator__min_samples_split=3, clf__estimator__n_estimators=9, total= 8.7min\n",
      "[CV] clf__estimator__min_samples_split=5, clf__estimator__n_estimators=6 \n",
      "[CV]  clf__estimator__min_samples_split=3, clf__estimator__n_estimators=9, total= 8.7min\n",
      "[CV] clf__estimator__min_samples_split=5, clf__estimator__n_estimators=6 \n",
      "[CV]  clf__estimator__min_samples_split=5, clf__estimator__n_estimators=4, total= 7.8min\n",
      "[CV] clf__estimator__min_samples_split=5, clf__estimator__n_estimators=9 \n",
      "[CV]  clf__estimator__min_samples_split=5, clf__estimator__n_estimators=4, total= 7.8min\n",
      "[CV] clf__estimator__min_samples_split=5, clf__estimator__n_estimators=9 \n",
      "[CV]  clf__estimator__min_samples_split=5, clf__estimator__n_estimators=6, total= 8.1min\n",
      "[CV]  clf__estimator__min_samples_split=5, clf__estimator__n_estimators=6, total= 8.1min\n",
      "[CV]  clf__estimator__min_samples_split=5, clf__estimator__n_estimators=9, total= 5.0min\n",
      "[CV]  clf__estimator__min_samples_split=5, clf__estimator__n_estimators=9, total= 4.9min\n"
     ]
    },
    {
     "name": "stderr",
     "output_type": "stream",
     "text": [
      "[Parallel(n_jobs=4)]: Done  18 out of  18 | elapsed: 53.2min finished\n"
     ]
    },
    {
     "name": "stdout",
     "output_type": "stream",
     "text": [
      "CPU times: user 2min 13s, sys: 8.24 s, total: 2min 21s\n",
      "Wall time: 55min 28s\n"
     ]
    },
    {
     "data": {
      "text/plain": [
       "GridSearchCV(cv=2, error_score='raise',\n",
       "       estimator=Pipeline(memory=None,\n",
       "     steps=[('vect', CountVectorizer(analyzer='word', binary=False, decode_error='strict',\n",
       "        dtype=<class 'numpy.int64'>, encoding='utf-8', input='content',\n",
       "        lowercase=True, max_df=1.0, max_features=None, min_df=1,\n",
       "        ngram_range=(1, 1), preprocessor=None, stop_words=None,\n",
       "        strip...oob_score=False, random_state=None, verbose=0,\n",
       "            warm_start=False),\n",
       "           n_jobs=1))]),\n",
       "       fit_params=None, iid=True, n_jobs=4,\n",
       "       param_grid={'clf__estimator__n_estimators': [4, 6, 9], 'clf__estimator__min_samples_split': [2, 3, 5]},\n",
       "       pre_dispatch='2*n_jobs', refit=True, return_train_score='warn',\n",
       "       scoring=None, verbose=2)"
      ]
     },
     "execution_count": 14,
     "metadata": {},
     "output_type": "execute_result"
    }
   ],
   "source": [
    "%%time\n",
    "# train improved model\n",
    "cv_forest.fit(X_train, y_train)"
   ]
  },
  {
   "cell_type": "code",
   "execution_count": 15,
   "metadata": {},
   "outputs": [
    {
     "data": {
      "text/plain": [
       "{'clf__estimator__min_samples_split': 2, 'clf__estimator__n_estimators': 6}"
      ]
     },
     "execution_count": 15,
     "metadata": {},
     "output_type": "execute_result"
    }
   ],
   "source": [
    "# display the best performing parameters\n",
    "cv_forest.best_params_"
   ]
  },
  {
   "cell_type": "markdown",
   "metadata": {},
   "source": [
    "### 7. Test your model\n",
    "Show the accuracy, precision, and recall of the tuned model.  \n",
    "\n",
    "Since this project focuses on code quality, process, and  pipelines, there is no minimum performance metric needed to pass. However, make sure to fine tune your models for accuracy, precision and recall to make your project stand out - especially for your portfolio!"
   ]
  },
  {
   "cell_type": "code",
   "execution_count": 16,
   "metadata": {},
   "outputs": [],
   "source": [
    "# predict responses for improved model\n",
    "Y_pred_cv = cv_forest.predict(X_test)"
   ]
  },
  {
   "cell_type": "code",
   "execution_count": 17,
   "metadata": {},
   "outputs": [
    {
     "name": "stdout",
     "output_type": "stream",
     "text": [
      "                        precision    recall  f1-score   support\n",
      "\n",
      "               related       0.87      0.89      0.88      5105\n",
      "               request       0.79      0.39      0.52      1140\n",
      "                 offer       0.00      0.00      0.00        33\n",
      "           aid_related       0.74      0.55      0.63      2739\n",
      "          medical_help       0.60      0.09      0.15       546\n",
      "      medical_products       0.70      0.08      0.14       355\n",
      "     search_and_rescue       0.53      0.05      0.09       173\n",
      "              security       0.00      0.00      0.00       123\n",
      "              military       0.56      0.09      0.15       226\n",
      "           child_alone       0.00      0.00      0.00         0\n",
      "                 water       0.81      0.32      0.46       414\n",
      "                  food       0.82      0.43      0.56       727\n",
      "               shelter       0.79      0.26      0.39       592\n",
      "              clothing       1.00      0.05      0.10        95\n",
      "                 money       0.78      0.09      0.16       161\n",
      "        missing_people       0.00      0.00      0.00        86\n",
      "              refugees       0.53      0.08      0.14       204\n",
      "                 death       0.80      0.15      0.25       313\n",
      "             other_aid       0.42      0.05      0.09       858\n",
      "infrastructure_related       0.31      0.02      0.03       445\n",
      "             transport       0.66      0.11      0.18       313\n",
      "             buildings       0.60      0.09      0.15       353\n",
      "           electricity       0.67      0.09      0.16       132\n",
      "                 tools       0.00      0.00      0.00        34\n",
      "             hospitals       0.00      0.00      0.00        63\n",
      "                 shops       0.00      0.00      0.00        26\n",
      "           aid_centers       0.00      0.00      0.00        85\n",
      "  other_infrastructure       0.17      0.01      0.01       307\n",
      "       weather_related       0.82      0.57      0.67      1864\n",
      "                floods       0.84      0.28      0.42       547\n",
      "                 storm       0.77      0.37      0.50       641\n",
      "                  fire       0.33      0.01      0.03        71\n",
      "            earthquake       0.87      0.66      0.75       626\n",
      "                  cold       0.68      0.16      0.25       122\n",
      "         other_weather       0.47      0.05      0.10       346\n",
      "         direct_report       0.72      0.29      0.41      1294\n",
      "\n",
      "           avg / total       0.73      0.46      0.52     21159\n",
      "\n"
     ]
    },
    {
     "name": "stderr",
     "output_type": "stream",
     "text": [
      "/opt/conda/lib/python3.6/site-packages/sklearn/metrics/classification.py:1135: UndefinedMetricWarning: Precision and F-score are ill-defined and being set to 0.0 in labels with no predicted samples.\n",
      "  'precision', 'predicted', average, warn_for)\n",
      "/opt/conda/lib/python3.6/site-packages/sklearn/metrics/classification.py:1137: UndefinedMetricWarning: Recall and F-score are ill-defined and being set to 0.0 in labels with no true samples.\n",
      "  'recall', 'true', average, warn_for)\n"
     ]
    }
   ],
   "source": [
    "# print classification_report\n",
    "print(classification_report(y_test, Y_pred_cv, target_names = y_test.columns, digits = 2))"
   ]
  },
  {
   "cell_type": "markdown",
   "metadata": {},
   "source": [
    "### 8. Try improving your model further. Here are a few ideas:\n",
    "* try other machine learning algorithms\n",
    "* add other features besides the TF-IDF"
   ]
  },
  {
   "cell_type": "markdown",
   "metadata": {},
   "source": [
    "I'm going to use the KNeighborsClassifier like in my previous submission and see how well it performs in this case."
   ]
  },
  {
   "cell_type": "code",
   "execution_count": 18,
   "metadata": {},
   "outputs": [],
   "source": [
    "# using KNeighborsClassifier\n",
    "pipeline_knn = Pipeline([\n",
    "    ('vect', CountVectorizer(tokenizer = tokenize)),\n",
    "    ('tfidf', TfidfTransformer()),\n",
    "    ('clf', MultiOutputClassifier(KNeighborsClassifier()))\n",
    "])"
   ]
  },
  {
   "cell_type": "code",
   "execution_count": 19,
   "metadata": {},
   "outputs": [
    {
     "data": {
      "text/plain": [
       "Pipeline(memory=None,\n",
       "     steps=[('vect', CountVectorizer(analyzer='word', binary=False, decode_error='strict',\n",
       "        dtype=<class 'numpy.int64'>, encoding='utf-8', input='content',\n",
       "        lowercase=True, max_df=1.0, max_features=None, min_df=1,\n",
       "        ngram_range=(1, 1), preprocessor=None, stop_words=None,\n",
       "        strip...ric_params=None, n_jobs=1, n_neighbors=5, p=2,\n",
       "           weights='uniform'),\n",
       "           n_jobs=1))])"
      ]
     },
     "execution_count": 19,
     "metadata": {},
     "output_type": "execute_result"
    }
   ],
   "source": [
    "# train KNeighborsClassifier model\n",
    "pipeline_knn.fit(X_train, y_train)"
   ]
  },
  {
   "cell_type": "code",
   "execution_count": 20,
   "metadata": {},
   "outputs": [],
   "source": [
    "# predict responses for KNeighborsClassifier model\n",
    "Y_pred_knn = pipeline_knn.predict(X_test)"
   ]
  },
  {
   "cell_type": "code",
   "execution_count": 21,
   "metadata": {},
   "outputs": [
    {
     "name": "stdout",
     "output_type": "stream",
     "text": [
      "                        precision    recall  f1-score   support\n",
      "\n",
      "               related       0.80      0.99      0.88      5105\n",
      "               request       0.75      0.09      0.16      1140\n",
      "                 offer       0.00      0.00      0.00        33\n",
      "           aid_related       0.78      0.05      0.09      2739\n",
      "          medical_help       0.00      0.00      0.00       546\n",
      "      medical_products       0.50      0.00      0.01       355\n",
      "     search_and_rescue       0.00      0.00      0.00       173\n",
      "              security       0.00      0.00      0.00       123\n",
      "              military       0.00      0.00      0.00       226\n",
      "           child_alone       0.00      0.00      0.00         0\n",
      "                 water       0.73      0.05      0.09       414\n",
      "                  food       0.75      0.07      0.12       727\n",
      "               shelter       0.84      0.04      0.07       592\n",
      "              clothing       0.50      0.02      0.04        95\n",
      "                 money       0.75      0.02      0.04       161\n",
      "        missing_people       0.00      0.00      0.00        86\n",
      "              refugees       0.00      0.00      0.00       204\n",
      "                 death       0.78      0.02      0.04       313\n",
      "             other_aid       0.50      0.01      0.02       858\n",
      "infrastructure_related       0.50      0.00      0.00       445\n",
      "             transport       0.00      0.00      0.00       313\n",
      "             buildings       1.00      0.01      0.02       353\n",
      "           electricity       0.00      0.00      0.00       132\n",
      "                 tools       0.00      0.00      0.00        34\n",
      "             hospitals       0.00      0.00      0.00        63\n",
      "                 shops       0.00      0.00      0.00        26\n",
      "           aid_centers       0.00      0.00      0.00        85\n",
      "  other_infrastructure       0.00      0.00      0.00       307\n",
      "       weather_related       0.80      0.06      0.11      1864\n",
      "                floods       0.50      0.00      0.00       547\n",
      "                 storm       0.75      0.01      0.03       641\n",
      "                  fire       0.00      0.00      0.00        71\n",
      "            earthquake       0.81      0.14      0.24       626\n",
      "                  cold       1.00      0.01      0.02       122\n",
      "         other_weather       0.75      0.01      0.02       346\n",
      "         direct_report       0.73      0.06      0.11      1294\n",
      "\n",
      "           avg / total       0.67      0.27      0.27     21159\n",
      "\n"
     ]
    },
    {
     "name": "stderr",
     "output_type": "stream",
     "text": [
      "/opt/conda/lib/python3.6/site-packages/sklearn/metrics/classification.py:1135: UndefinedMetricWarning: Precision and F-score are ill-defined and being set to 0.0 in labels with no predicted samples.\n",
      "  'precision', 'predicted', average, warn_for)\n",
      "/opt/conda/lib/python3.6/site-packages/sklearn/metrics/classification.py:1137: UndefinedMetricWarning: Recall and F-score are ill-defined and being set to 0.0 in labels with no true samples.\n",
      "  'recall', 'true', average, warn_for)\n"
     ]
    }
   ],
   "source": [
    "# print classification_report\n",
    "print(classification_report(y_test, Y_pred_knn, target_names = y_test.columns, digits = 2))"
   ]
  },
  {
   "cell_type": "markdown",
   "metadata": {},
   "source": [
    "### 9. Export your model as a pickle file"
   ]
  },
  {
   "cell_type": "code",
   "execution_count": 22,
   "metadata": {},
   "outputs": [],
   "source": [
    "pickle_out = open('model.pkl','wb')\n",
    "pickle.dump(cv_forest, pickle_out)\n",
    "pickle_out.close()"
   ]
  },
  {
   "cell_type": "markdown",
   "metadata": {},
   "source": [
    "### 10. Use this notebook to complete `train.py`\n",
    "Use the template file attached in the Resources folder to write a script that runs the steps above to create a database and export a model based on a new dataset specified by the user."
   ]
  }
 ],
 "metadata": {
  "kernelspec": {
   "display_name": "Python 3",
   "language": "python",
   "name": "python3"
  },
  "language_info": {
   "codemirror_mode": {
    "name": "ipython",
    "version": 3
   },
   "file_extension": ".py",
   "mimetype": "text/x-python",
   "name": "python",
   "nbconvert_exporter": "python",
   "pygments_lexer": "ipython3",
   "version": "3.6.3"
  }
 },
 "nbformat": 4,
 "nbformat_minor": 2
}
